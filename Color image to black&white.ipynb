{
 "cells": [
  {
   "cell_type": "code",
   "execution_count": 3,
   "id": "6887571f",
   "metadata": {},
   "outputs": [],
   "source": [
    "import cv2"
   ]
  },
  {
   "cell_type": "code",
   "execution_count": 4,
   "id": "92e80f07",
   "metadata": {},
   "outputs": [],
   "source": [
    "img = cv2.imread(\"naji.jpg\")"
   ]
  },
  {
   "cell_type": "code",
   "execution_count": 5,
   "id": "ded3d31a",
   "metadata": {},
   "outputs": [],
   "source": [
    "cv2.imshow(\"color_image\", img)"
   ]
  },
  {
   "cell_type": "code",
   "execution_count": 6,
   "id": "93374e23",
   "metadata": {},
   "outputs": [
    {
     "data": {
      "text/plain": [
       "13"
      ]
     },
     "execution_count": 6,
     "metadata": {},
     "output_type": "execute_result"
    }
   ],
   "source": [
    "cv2.waitKey()"
   ]
  },
  {
   "cell_type": "code",
   "execution_count": 7,
   "id": "32a42e45",
   "metadata": {},
   "outputs": [],
   "source": [
    "img_black = cv2.cvtColor(img, cv2.COLOR_BGR2GRAY)"
   ]
  },
  {
   "cell_type": "code",
   "execution_count": 8,
   "id": "68cb2baf",
   "metadata": {},
   "outputs": [],
   "source": [
    "cv2.imshow(\"black and white\", img_black)"
   ]
  },
  {
   "cell_type": "code",
   "execution_count": 9,
   "id": "13ce11b0",
   "metadata": {},
   "outputs": [
    {
     "data": {
      "text/plain": [
       "13"
      ]
     },
     "execution_count": 9,
     "metadata": {},
     "output_type": "execute_result"
    }
   ],
   "source": [
    "cv2.waitKey()"
   ]
  },
  {
   "cell_type": "code",
   "execution_count": 10,
   "id": "2bf6baa5",
   "metadata": {},
   "outputs": [],
   "source": [
    "cv2.destroyAllWindows()"
   ]
  },
  {
   "cell_type": "code",
   "execution_count": null,
   "id": "4c182c8d",
   "metadata": {},
   "outputs": [],
   "source": []
  },
  {
   "cell_type": "code",
   "execution_count": 11,
   "id": "5c335b26",
   "metadata": {},
   "outputs": [],
   "source": [
    "img_black1 = cv2.imread(\"naji.jpg\", 0)"
   ]
  },
  {
   "cell_type": "code",
   "execution_count": 12,
   "id": "8eb5a23e",
   "metadata": {},
   "outputs": [],
   "source": [
    "cv2.imshow(\"Second Black and White\", img_black1)"
   ]
  },
  {
   "cell_type": "code",
   "execution_count": 13,
   "id": "51c789f8",
   "metadata": {},
   "outputs": [
    {
     "data": {
      "text/plain": [
       "13"
      ]
     },
     "execution_count": 13,
     "metadata": {},
     "output_type": "execute_result"
    }
   ],
   "source": [
    "cv2.waitKey()"
   ]
  },
  {
   "cell_type": "code",
   "execution_count": 14,
   "id": "c9b73ee8",
   "metadata": {},
   "outputs": [],
   "source": [
    "cv2.destroyAllWindows()"
   ]
  },
  {
   "cell_type": "code",
   "execution_count": null,
   "id": "4bbafa5f",
   "metadata": {},
   "outputs": [],
   "source": []
  }
 ],
 "metadata": {
  "kernelspec": {
   "display_name": "Python 3 (ipykernel)",
   "language": "python",
   "name": "python3"
  },
  "language_info": {
   "codemirror_mode": {
    "name": "ipython",
    "version": 3
   },
   "file_extension": ".py",
   "mimetype": "text/x-python",
   "name": "python",
   "nbconvert_exporter": "python",
   "pygments_lexer": "ipython3",
   "version": "3.8.16"
  }
 },
 "nbformat": 4,
 "nbformat_minor": 5
}
