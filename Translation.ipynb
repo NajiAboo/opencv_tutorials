{
 "cells": [
  {
   "cell_type": "markdown",
   "id": "3a7358e2",
   "metadata": {},
   "source": [
    "# Translation"
   ]
  },
  {
   "cell_type": "markdown",
   "id": "c004a153",
   "metadata": {},
   "source": [
    "### Translation is the shifting of an object's location. If you know the shift in the (x,y) direction and let it be (tx,ty), you can create the transformation matrix M as follows:"
   ]
  },
  {
   "attachments": {
    "Screenshot%20from%202023-03-06%2015-02-55.png": {
     "image/png": "[encoded data removed]"
    }
   },
   "cell_type": "markdown",
   "id": "5a525338",
   "metadata": {},
   "source": [
    "![Screenshot%20from%202023-03-06%2015-02-55.png](attachment:Screenshot%20from%202023-03-06%2015-02-55.png)"
   ]
  },
  {
   "cell_type": "code",
   "execution_count": 2,
   "id": "0d850ea7",
   "metadata": {},
   "outputs": [],
   "source": [
    "import cv2\n",
    "import numpy as np"
   ]
  },
  {
   "cell_type": "code",
   "execution_count": 3,
   "id": "6a284d5c",
   "metadata": {},
   "outputs": [],
   "source": [
    "image = cv2.imread(\"naji.jpg\",0)"
   ]
  },
  {
   "cell_type": "code",
   "execution_count": 4,
   "id": "093cd197",
   "metadata": {},
   "outputs": [],
   "source": [
    "rows, cols = image.shape"
   ]
  },
  {
   "cell_type": "code",
   "execution_count": 12,
   "id": "30da402e",
   "metadata": {},
   "outputs": [],
   "source": [
    "M = np.float32([ [1,0, 0], [0,1,200] ])"
   ]
  },
  {
   "cell_type": "code",
   "execution_count": 13,
   "id": "8120b498",
   "metadata": {},
   "outputs": [],
   "source": [
    "mod_image = cv2.warpAffine(image, M, (rows, cols))"
   ]
  },
  {
   "cell_type": "code",
   "execution_count": 14,
   "id": "eaafbcb2",
   "metadata": {},
   "outputs": [],
   "source": [
    "cv2.imshow(\"updated Image\", mod_image)\n",
    "cv2.waitKey(0)\n",
    "cv2.destroyAllWindows()"
   ]
  },
  {
   "cell_type": "code",
   "execution_count": null,
   "id": "a4be7c3f",
   "metadata": {},
   "outputs": [],
   "source": []
  },
  {
   "cell_type": "code",
   "execution_count": null,
   "id": "36c5f17a",
   "metadata": {},
   "outputs": [],
   "source": []
  }
 ],
 "metadata": {
  "kernelspec": {
   "display_name": "Python 3 (ipykernel)",
   "language": "python",
   "name": "python3"
  },
  "language_info": {
   "codemirror_mode": {
    "name": "ipython",
    "version": 3
   },
   "file_extension": ".py",
   "mimetype": "text/x-python",
   "name": "python",
   "nbconvert_exporter": "python",
   "pygments_lexer": "ipython3",
   "version": "3.9.7"
  }
 },
 "nbformat": 4,
 "nbformat_minor": 5
}
