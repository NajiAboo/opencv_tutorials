{
 "cells": [
  {
   "cell_type": "markdown",
   "id": "ebeff453",
   "metadata": {},
   "source": [
    "## Image Rotation"
   ]
  },
  {
   "cell_type": "markdown",
   "id": "9787e69f",
   "metadata": {},
   "source": [
    "### There are 3 different ways we can do the roation \n",
    "- #### rotate method\n",
    "- #### getRoatationMatrix2D() & warpAffine\n",
    "- #### Transpose"
   ]
  },
  {
   "cell_type": "markdown",
   "id": "50d187cf",
   "metadata": {},
   "source": [
    "### Rotate\n",
    "Takes two parameters\n",
    "- src  : The source of image\n",
    "- rotateCode: The type of rotation\n",
    "     - cv2.ROTATE_90_CLOCKWISE: Rotates the image in a clockwise direction by 90 degrees\n",
    "     - cv2.ROTATE_90_COUNTERCLOCKWISE: Rotates the image in a counter-clockwise direction by 90 degrees\n",
    "     - cv2.ROTATE_180: Rotates the image in a clockwise direction by 180 degrees"
   ]
  },
  {
   "cell_type": "code",
   "execution_count": 6,
   "id": "3575812d",
   "metadata": {},
   "outputs": [],
   "source": [
    "import cv2"
   ]
  },
  {
   "cell_type": "code",
   "execution_count": 7,
   "id": "25fa9688",
   "metadata": {},
   "outputs": [],
   "source": [
    "image = cv2.imread(\"n1.jpg\")"
   ]
  },
  {
   "cell_type": "code",
   "execution_count": 8,
   "id": "9a8576fe",
   "metadata": {},
   "outputs": [],
   "source": [
    "rows, cols, channel = image.shape"
   ]
  },
  {
   "cell_type": "code",
   "execution_count": 9,
   "id": "2ec67209",
   "metadata": {},
   "outputs": [],
   "source": [
    "rotate_90 = cv2.rotate(image, cv2.ROTATE_90_CLOCKWISE)\n",
    "cv2.imshow(\"rotated_90\", rotate_90)\n",
    "cv2.waitKey(0)\n",
    "cv2.destroyAllWindows()"
   ]
  },
  {
   "cell_type": "code",
   "execution_count": null,
   "id": "d989484e",
   "metadata": {},
   "outputs": [],
   "source": []
  },
  {
   "cell_type": "code",
   "execution_count": 10,
   "id": "055e11f4",
   "metadata": {},
   "outputs": [],
   "source": [
    "rotate_90 = cv2.rotate(image, cv2.ROTATE_90_COUNTERCLOCKWISE)\n",
    "cv2.imshow(\"rotated_90\", rotate_90)\n",
    "cv2.waitKey(0)\n",
    "cv2.destroyAllWindows()"
   ]
  },
  {
   "cell_type": "code",
   "execution_count": null,
   "id": "c3e9903e",
   "metadata": {},
   "outputs": [],
   "source": []
  },
  {
   "cell_type": "code",
   "execution_count": 11,
   "id": "18a2197a",
   "metadata": {},
   "outputs": [],
   "source": [
    "rotate_90 = cv2.rotate(image, cv2.ROTATE_180)\n",
    "cv2.imshow(\"rotated_90\", rotate_90)\n",
    "cv2.waitKey(0)\n",
    "cv2.destroyAllWindows()"
   ]
  },
  {
   "cell_type": "code",
   "execution_count": null,
   "id": "c4df853c",
   "metadata": {},
   "outputs": [],
   "source": []
  },
  {
   "cell_type": "markdown",
   "id": "836633fa",
   "metadata": {},
   "source": [
    "## getRoatationMatrix2D & warpAffine"
   ]
  },
  {
   "attachments": {
    "roation.png": {
     "image/png": "[encoded data removed]"
    }
   },
   "cell_type": "markdown",
   "id": "64eeb16d",
   "metadata": {},
   "source": [
    "![roation.png](attachment:roation.png)"
   ]
  },
  {
   "cell_type": "code",
   "execution_count": 24,
   "id": "9c60a363",
   "metadata": {},
   "outputs": [],
   "source": [
    "M = cv2.getRotationMatrix2D((cols/2, rows/2), 180, 1)"
   ]
  },
  {
   "cell_type": "code",
   "execution_count": 25,
   "id": "6e4306b1",
   "metadata": {},
   "outputs": [],
   "source": [
    "rotate_30 = cv2.warpAffine(image, M, (cols,rows))\n",
    "cv2.imshow(\"rotated_30\", rotate_30)\n",
    "cv2.waitKey(0)\n",
    "cv2.destroyAllWindows()"
   ]
  },
  {
   "cell_type": "code",
   "execution_count": null,
   "id": "14b421dc",
   "metadata": {},
   "outputs": [],
   "source": []
  },
  {
   "cell_type": "markdown",
   "id": "66f8a1db",
   "metadata": {},
   "source": [
    "## Transpose"
   ]
  },
  {
   "cell_type": "code",
   "execution_count": 26,
   "id": "0d566872",
   "metadata": {},
   "outputs": [],
   "source": [
    "trasponse = cv2.transpose(image)"
   ]
  },
  {
   "cell_type": "code",
   "execution_count": 27,
   "id": "7dcbdc69",
   "metadata": {},
   "outputs": [],
   "source": [
    "cv2.imshow(\"transpose\", trasponse)\n",
    "cv2.waitKey(0)\n",
    "cv2.destroyAllWindows()"
   ]
  },
  {
   "cell_type": "code",
   "execution_count": null,
   "id": "a518963e",
   "metadata": {},
   "outputs": [],
   "source": []
  },
  {
   "cell_type": "code",
   "execution_count": null,
   "id": "65dfd202",
   "metadata": {},
   "outputs": [],
   "source": []
  },
  {
   "cell_type": "code",
   "execution_count": null,
   "id": "4d669d21",
   "metadata": {},
   "outputs": [],
   "source": []
  },
  {
   "cell_type": "code",
   "execution_count": null,
   "id": "9ddd74c5",
   "metadata": {},
   "outputs": [],
   "source": []
  }
 ],
 "metadata": {
  "kernelspec": {
   "display_name": "Python 3 (ipykernel)",
   "language": "python",
   "name": "python3"
  },
  "language_info": {
   "codemirror_mode": {
    "name": "ipython",
    "version": 3
   },
   "file_extension": ".py",
   "mimetype": "text/x-python",
   "name": "python",
   "nbconvert_exporter": "python",
   "pygments_lexer": "ipython3",
   "version": "3.9.7"
  }
 },
 "nbformat": 4,
 "nbformat_minor": 5
}
